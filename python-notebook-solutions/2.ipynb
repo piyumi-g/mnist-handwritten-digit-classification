{
  "nbformat": 4,
  "nbformat_minor": 0,
  "metadata": {
    "colab": {
      "name": "2.ipynb",
      "provenance": []
    },
    "kernelspec": {
      "name": "python3",
      "display_name": "Python 3"
    }
  },
  "cells": [
    {
      "cell_type": "code",
      "metadata": {
        "id": "5B2r1WUviZMe",
        "colab_type": "code",
        "colab": {}
      },
      "source": [
        "import keras\n",
        "from keras.datasets import mnist\n",
        "from keras.models import Sequential\n",
        "from keras.layers import Dense, Dropout, Flatten\n",
        "from keras.layers import Conv2D, MaxPooling2D\n",
        "from keras import backend as K\n",
        "import numpy as np\n",
        "import pandas as pd \n",
        "import matplotlib.pyplot as plt"
      ],
      "execution_count": 8,
      "outputs": []
    },
    {
      "cell_type": "code",
      "metadata": {
        "id": "vCMFJ5vIjP1C",
        "colab_type": "code",
        "colab": {
          "base_uri": "https://localhost:8080/",
          "height": 527
        },
        "outputId": "325bc3a8-6a55-4acb-84fd-dd5d3e9c9fec"
      },
      "source": [
        "#parameters\n",
        "batch_size = 32\n",
        "num_classes = 10\n",
        "epochs = 10\n",
        "(x_train, y_train), (x_test, y_test) = mnist.load_data()\n",
        "\n",
        "print(np.shape(x_train))\n",
        "print(np.shape(y_train))\n",
        "print(np.shape(x_test))\n",
        "print(np.shape(y_test))\n",
        "\n",
        "#Image dataset dimensions\n",
        "img_rows, img_cols = 28, 28\n",
        "print(img_rows, img_cols)\n",
        "\n",
        "#Reshape the dataset to have a single colour channel\n",
        "x_train = x_train.reshape((x_train.shape[0], img_rows, img_cols, 1))\n",
        "x_test = x_test.reshape((x_test.shape[0], img_rows, img_cols, 1))\n",
        "\n",
        "#One hot encode target values\n",
        "from keras.utils import to_categorical\n",
        "\n",
        "y_train = to_categorical(y_train)\n",
        "y_test = to_categorical(y_test)\n",
        "\n",
        "#Convert from integers to floats to divide the pixel value from the max value\n",
        "x_train = x_train.astype('float32')\n",
        "x_test = x_test.astype('float32')\n",
        "\n",
        "# normalize to range 0-1\n",
        "x_train = x_train / 255.0\n",
        "x_test = x_test / 255.0\n",
        "\n",
        "print('x_train shape:', x_train.shape)\n",
        "print(x_train.shape[0], 'train samples')\n",
        "print(x_test.shape[0], 'test samples')\n",
        "\n",
        "\n",
        "#Creating the model\n",
        "from keras.optimizers import SGD\n",
        "\n",
        "model = Sequential()\n",
        "model.add(Conv2D(32, (3, 3), activation='relu', kernel_initializer='he_uniform', input_shape=(28, 28, 1)))\n",
        "model.add(MaxPooling2D((2, 2)))\n",
        "model.add(Dropout(0.25))\n",
        "model.add(Flatten())\n",
        "model.add(Dense(100, activation='relu', kernel_initializer='he_uniform'))\n",
        "model.add(Dropout(0.5))\n",
        "model.add(Dense(10, activation='softmax'))\n",
        "\n",
        "#Compile model\n",
        "optimizer = SGD(lr=0.01, momentum=0.9)\n",
        "model.compile(optimizer=optimizer, loss='categorical_crossentropy', metrics=['accuracy'])\n",
        "model.summary()"
      ],
      "execution_count": 9,
      "outputs": [
        {
          "output_type": "stream",
          "text": [
            "(60000, 28, 28)\n",
            "(60000,)\n",
            "(10000, 28, 28)\n",
            "(10000,)\n",
            "28 28\n",
            "x_train shape: (60000, 28, 28, 1)\n",
            "60000 train samples\n",
            "10000 test samples\n",
            "Model: \"sequential_2\"\n",
            "_________________________________________________________________\n",
            "Layer (type)                 Output Shape              Param #   \n",
            "=================================================================\n",
            "conv2d_2 (Conv2D)            (None, 26, 26, 32)        320       \n",
            "_________________________________________________________________\n",
            "max_pooling2d_2 (MaxPooling2 (None, 13, 13, 32)        0         \n",
            "_________________________________________________________________\n",
            "dropout_3 (Dropout)          (None, 13, 13, 32)        0         \n",
            "_________________________________________________________________\n",
            "flatten_2 (Flatten)          (None, 5408)              0         \n",
            "_________________________________________________________________\n",
            "dense_3 (Dense)              (None, 100)               540900    \n",
            "_________________________________________________________________\n",
            "dropout_4 (Dropout)          (None, 100)               0         \n",
            "_________________________________________________________________\n",
            "dense_4 (Dense)              (None, 10)                1010      \n",
            "=================================================================\n",
            "Total params: 542,230\n",
            "Trainable params: 542,230\n",
            "Non-trainable params: 0\n",
            "_________________________________________________________________\n"
          ],
          "name": "stdout"
        }
      ]
    },
    {
      "cell_type": "markdown",
      "metadata": {
        "id": "n0ySXwf0hJfx",
        "colab_type": "text"
      },
      "source": [
        "**Adding Random Noise**"
      ]
    },
    {
      "cell_type": "code",
      "metadata": {
        "id": "Fo0LlpVthJAh",
        "colab_type": "code",
        "colab": {
          "base_uri": "https://localhost:8080/",
          "height": 85
        },
        "outputId": "2ab68186-9363-42b7-c0d0-b8ace6db1ee5"
      },
      "source": [
        "noise_factor = 0.25\n",
        "\n",
        "x_train_noisy = x_train + noise_factor * np.random.normal(loc=0.0, scale=1.0, size=x_train.shape)\n",
        "x_test_noisy = x_test + noise_factor * np.random.normal(loc=0.0, scale=1.0, size=x_test.shape)\n",
        "#y_train_noisy = np.clip(x_train_noisy, 0., 1.)\n",
        "#y_test_noisy = np.clip(x_test_noisy, 0., 1.)\n",
        "\n",
        "\n",
        "y_train_noisy = y_train + noise_factor * np.random.normal(loc=0.0, scale=1.0, size=y_train.shape)\n",
        "y_test_noisy = y_test + noise_factor * np.random.normal(loc=0.0, scale=1.0, size=y_test.shape)\n",
        "\n",
        "print(np.shape(x_train_noisy))\n",
        "print(np.shape(y_train_noisy))\n",
        "print(np.shape(x_test_noisy))\n",
        "print(np.shape(y_test_noisy))"
      ],
      "execution_count": 10,
      "outputs": [
        {
          "output_type": "stream",
          "text": [
            "(60000, 28, 28, 1)\n",
            "(60000, 10)\n",
            "(10000, 28, 28, 1)\n",
            "(10000, 10)\n"
          ],
          "name": "stdout"
        }
      ]
    },
    {
      "cell_type": "code",
      "metadata": {
        "id": "30Gq7FUWi069",
        "colab_type": "code",
        "colab": {
          "base_uri": "https://localhost:8080/",
          "height": 425
        },
        "outputId": "dc0ab4bf-30f5-41bb-9dfb-5b41ef4ff451"
      },
      "source": [
        "#running the model again with noise\n",
        "model.fit(x_train_noisy, y_train_noisy,\n",
        "          batch_size=batch_size,\n",
        "          epochs=epochs,\n",
        "          verbose=1,\n",
        "          validation_data=(x_test_noisy, y_test_noisy))\n",
        "\n",
        "score = model.evaluate(x_test_noisy, y_test_noisy, verbose=0)\n",
        "print('Test loss:', score[0])\n",
        "print('Test accuracy:', score[1])\n",
        "print('> %.3f' % (score[1] * 100.0))"
      ],
      "execution_count": null,
      "outputs": [
        {
          "output_type": "stream",
          "text": [
            "Train on 60000 samples, validate on 10000 samples\n",
            "Epoch 1/10\n",
            "60000/60000 [==============================] - 39s 658us/step - loss: 0.3957 - accuracy: 0.8739 - val_loss: 0.0614 - val_accuracy: 0.9310\n",
            "Epoch 2/10\n",
            "60000/60000 [==============================] - 39s 647us/step - loss: 0.3546 - accuracy: 0.8363 - val_loss: -0.0260 - val_accuracy: 0.9020\n",
            "Epoch 3/10\n",
            "60000/60000 [==============================] - 39s 650us/step - loss: 1.0153 - accuracy: 0.7359 - val_loss: 0.1973 - val_accuracy: 0.8283\n",
            "Epoch 4/10\n",
            "60000/60000 [==============================] - 39s 658us/step - loss: 2.2363 - accuracy: 0.2665 - val_loss: 2.2559 - val_accuracy: 0.1184\n",
            "Epoch 5/10\n",
            "60000/60000 [==============================] - 40s 659us/step - loss: 2.0815 - accuracy: 0.1590 - val_loss: 2.2779 - val_accuracy: 0.1135\n",
            "Epoch 6/10\n",
            "60000/60000 [==============================] - 40s 662us/step - loss: 2.3031 - accuracy: 0.1078 - val_loss: 2.2774 - val_accuracy: 0.1135\n",
            "Epoch 7/10\n",
            "60000/60000 [==============================] - 39s 657us/step - loss: 2.3076 - accuracy: 0.1088 - val_loss: 2.2782 - val_accuracy: 0.1135\n",
            "Epoch 8/10\n",
            "60000/60000 [==============================] - 40s 660us/step - loss: 2.2931 - accuracy: 0.1104 - val_loss: 2.2540 - val_accuracy: 0.1154\n",
            "Epoch 9/10\n",
            "60000/60000 [==============================] - 40s 669us/step - loss: 2.3133 - accuracy: 0.1137 - val_loss: 2.0882 - val_accuracy: 0.2053\n",
            "Epoch 10/10\n",
            "60000/60000 [==============================] - 40s 666us/step - loss: 2.7079 - accuracy: 0.1319 - val_loss: 2.2280 - val_accuracy: 0.1162\n",
            "Test loss: 2.228033346366882\n",
            "Test accuracy: 0.11620000004768372\n",
            "> 11.620\n"
          ],
          "name": "stdout"
        }
      ]
    }
  ]
}